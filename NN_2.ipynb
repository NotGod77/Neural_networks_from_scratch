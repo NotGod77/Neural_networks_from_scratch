{
  "nbformat": 4,
  "nbformat_minor": 0,
  "metadata": {
    "colab": {
      "provenance": []
    },
    "kernelspec": {
      "name": "python3",
      "display_name": "Python 3"
    },
    "language_info": {
      "name": "python"
    }
  },
  "cells": [
    {
      "cell_type": "markdown",
      "source": [
        "#Coding neuron layers"
      ],
      "metadata": {
        "id": "gcW3zCS7fDeY"
      }
    },
    {
      "cell_type": "code",
      "execution_count": 5,
      "metadata": {
        "colab": {
          "base_uri": "https://localhost:8080/"
        },
        "id": "Nw98dzSUeQhR",
        "outputId": "08aac709-fe49-43f6-b5c3-0a1c75ee3d22"
      },
      "outputs": [
        {
          "output_type": "stream",
          "name": "stdout",
          "text": [
            "[[172 232 204]\n",
            " [204 275 242]\n",
            " [218 294 258]]\n"
          ]
        }
      ],
      "source": [
        "import numpy as np\n",
        "# a network with an input layer, a hidden layer(3 neurons), and a final layer(3 neurons)\n",
        "\n",
        "inputs = [[1,2,3,4],[1,3,3,5],[1,3,4,5]]\n",
        "\n",
        "w1 = [[1,1,1,2],[2,2,2,2],[3,3,3,4]]\n",
        "b1 =[1,2,3]\n",
        "\n",
        "w2 = [[1,2,3],[1,3,4],[4,3,2]]\n",
        "b2=[2,3,4]\n",
        "\n",
        "# converting all these to numpy arrays for robustness\n",
        "inputs_array = np.array(inputs)\n",
        "w1_array = np.array(w1)\n",
        "b1_array = np.array(b1)\n",
        "w2_array = np.array(w2)\n",
        "b2_array = np.array(b2)\n",
        "\n",
        "layer1_outputs = np.dot(inputs_array, w1_array.T)+b1_array\n",
        "layer2_outputs = np.dot(layer1_outputs, w2_array.T)+b2_array\n",
        "print(layer2_outputs)"
      ]
    },
    {
      "cell_type": "code",
      "source": [
        "#remember, the rows are batchwise outputs for each neuron, columns are neuron 1, neuron 2 and so on"
      ],
      "metadata": {
        "id": "zxaaydh6ggtQ"
      },
      "execution_count": null,
      "outputs": []
    }
  ]
}