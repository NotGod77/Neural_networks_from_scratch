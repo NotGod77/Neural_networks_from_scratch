{
  "cells": [
    {
      "cell_type": "code",
      "execution_count": 20,
      "metadata": {
        "id": "vxzXZKp9jeoz"
      },
      "outputs": [],
      "source": [
        "# Cross entropy loss\n",
        "# -summation(True_label*log(probability))\n",
        "\n",
        "#Advanced indexing in python = matrix[[0,1,2],[0,1,1]]\n",
        "#Selects the 0th index from row 0, 1st index from row 1, 1st index from row 2"
      ]
    },
    {
      "cell_type": "code",
      "execution_count": 21,
      "metadata": {
        "id": "WLXSd5FDNeMI"
      },
      "outputs": [],
      "source": [
        "import numpy as np"
      ]
    },
    {
      "cell_type": "code",
      "execution_count": 22,
      "metadata": {
        "id": "B4kaWVbRNo0s"
      },
      "outputs": [],
      "source": [
        "#as the cross entropy loss can only be calculated using the true label, the others don't matter\n",
        "#we need to extract the probabilities of the required classes only"
      ]
    },
    {
      "cell_type": "markdown",
      "metadata": {
        "id": "lI0i8O_yN4gO"
      },
      "source": [
        "###When class targets are provided"
      ]
    },
    {
      "cell_type": "code",
      "execution_count": 30,
      "metadata": {
        "colab": {
          "base_uri": "https://localhost:8080/"
        },
        "id": "YEm3MUO2OEGH",
        "outputId": "ca097e06-6337-4913-c498-f7a4ac481b48"
      },
      "outputs": [
        {
          "name": "stdout",
          "output_type": "stream",
          "text": [
            "[0.7 0.5 0.9]\n"
          ]
        }
      ],
      "source": [
        "#Suppose we got these probabilistic values as output from a 3 neuron final layer with 3 batches of data\n",
        "softmax_outputs = np.array([[0.7, 0.1, 0.2],\n",
        " [0.1, 0.5, 0.4],\n",
        " [0.02, 0.9, 0.08]])\n",
        "class_targets = np.array([0,1,1])\n",
        "#Extracting the required softmax outputs using advanced indexing\n",
        "print(softmax_outputs[[0,1,2],class_targets])"
      ]
    },
    {
      "cell_type": "code",
      "execution_count": 24,
      "metadata": {
        "colab": {
          "base_uri": "https://localhost:8080/"
        },
        "id": "FQmdBKt6Pm5Y",
        "outputId": "b78b284b-9ef1-487d-dacc-d6a362bfef37"
      },
      "outputs": [
        {
          "name": "stdout",
          "output_type": "stream",
          "text": [
            "[0.7 0.5 0.9]\n"
          ]
        }
      ],
      "source": [
        "print(softmax_outputs[range(len(softmax_outputs)),class_targets]) #here this is equal to range(3) = 0,1,2, then it pairs up these with the class targets"
      ]
    },
    {
      "cell_type": "code",
      "execution_count": 25,
      "metadata": {
        "colab": {
          "base_uri": "https://localhost:8080/"
        },
        "id": "34GwnvW6PP0u",
        "outputId": "511ba8d0-f45c-489f-ca96-0e099327ddc7"
      },
      "outputs": [
        {
          "name": "stdout",
          "output_type": "stream",
          "text": [
            "[0.35667494 0.69314718 0.10536052] 0.38506088005216804\n"
          ]
        }
      ],
      "source": [
        "#Now we can calculate losses easily\n",
        "output_list=softmax_outputs[[0,1,2],class_targets]\n",
        "loss = -np.log(output_list)\n",
        "average_loss = np.mean(loss)\n",
        "print(loss,average_loss)"
      ]
    },
    {
      "cell_type": "markdown",
      "metadata": {
        "id": "AKHzGnP4PBiJ"
      },
      "source": [
        "###When class targets are one-hot encoded"
      ]
    },
    {
      "cell_type": "code",
      "execution_count": 26,
      "metadata": {
        "colab": {
          "base_uri": "https://localhost:8080/"
        },
        "id": "9JgE4Jz5O_kP",
        "outputId": "6e1e4903-40fc-4f39-b8d8-35a1b2d5b64c"
      },
      "outputs": [
        {
          "name": "stdout",
          "output_type": "stream",
          "text": [
            "[0.7 0.5 0.9]\n",
            "[0.35667494 0.69314718 0.10536052]\n",
            "Average loss:  0.38506088005216804\n"
          ]
        }
      ],
      "source": [
        "#Just multiply the class encoded matrix elementwise to the output matrix\n",
        "y_true_check = np.array([\n",
        "    [1, 0, 0],\n",
        "    [0, 1, 0],\n",
        "    [0, 1, 0]\n",
        "])\n",
        "\n",
        "y_pred_clipped_check = np.array([\n",
        "    [0.7, 0.1, 0.2],\n",
        "    [0.1, 0.5, 0.4],\n",
        "    [0.02, 0.9, 0.08]\n",
        "])\n",
        "\n",
        "output_matrix = y_true_check*y_pred_clipped_check\n",
        "prob_matrix= np.sum(output_matrix,axis =1)\n",
        "print(prob_matrix)\n",
        "loss_matrix = -np.log(prob_matrix)\n",
        "print(loss_matrix)\n",
        "print(\"Average loss: \",np.mean(loss_matrix))"
      ]
    },
    {
      "cell_type": "code",
      "execution_count": 27,
      "metadata": {
        "id": "Q-1WZtfxR4e7"
      },
      "outputs": [],
      "source": [
        "#Parent loss class, to calculate the loss per batch, and mean.\n",
        "#the forward method will be in the child class, which will calculate the loss per batch\n",
        "class Loss:\n",
        "  def calculate(self,x,y):\n",
        "    sample_losses = self.forward(x,y)\n",
        "    return np.mean(sample_losses)"
      ]
    },
    {
      "cell_type": "code",
      "execution_count": 28,
      "metadata": {
        "id": "g3j75ZqWBSz8"
      },
      "outputs": [],
      "source": [
        "class Crossentropyloss(Loss):\n",
        "  def forward(self,y_pred,y_target):\n",
        "    samples = len(y_pred)\n",
        "    y_pred_clipped = np.clip(y_pred,1e-7,1-1e-7)\n",
        "\n",
        "    if len(y_target.shape)==1:\n",
        "      required_confidences = y_pred_clipped[range(samples),y_target]\n",
        "    elif len(y_target.shape)==2:\n",
        "      required_confidences= np.sum(y_pred_clipped*y_target,axis=1)\n",
        "\n",
        "    losses = -np.log(required_confidences)\n",
        "    return losses"
      ]
    },
    {
      "cell_type": "code",
      "execution_count": 31,
      "metadata": {
        "colab": {
          "base_uri": "https://localhost:8080/"
        },
        "id": "bMVLgKDHCRME",
        "outputId": "41d6a08c-3e18-40c4-cb30-d24a68f0fc0a"
      },
      "outputs": [
        {
          "name": "stdout",
          "output_type": "stream",
          "text": [
            "0.38506088005216804\n"
          ]
        }
      ],
      "source": [
        "#applying these classes to our above softmax outputs and class target labels\n",
        "loss_function = Crossentropyloss()\n",
        "loss = loss_function.calculate(softmax_outputs,class_targets) #gets the final mean loss\n",
        "print(loss)"
      ]
    },
    {
      "cell_type": "code",
      "execution_count": 35,
      "metadata": {
        "colab": {
          "base_uri": "https://localhost:8080/"
        },
        "id": "oZ2c4GAzJYzT",
        "outputId": "d0254d4f-b520-4eec-d826-d301deab1cd7"
      },
      "outputs": [
        {
          "name": "stdout",
          "output_type": "stream",
          "text": [
            "1.0\n"
          ]
        }
      ],
      "source": [
        "#accuracy\n",
        "predictions = np.argmax(softmax_outputs,axis=1)\n",
        "if(class_targets.shape)==2:\n",
        "  class_targets = np.argmax(class_targets,axis=1)\n",
        "accuracy = np.mean(predictions==class_targets)\n",
        "print(accuracy)"
      ]
    },
    {
      "cell_type": "code",
      "execution_count": null,
      "metadata": {
        "id": "K8PPOwKfV5kl"
      },
      "outputs": [],
      "source": [
        "#Hence, our flow becomes\n",
        "# Denselayer1->Relu->Denselayer2->Softmax->lossfunctionevaluation"
      ]
    }
  ],
  "metadata": {
    "colab": {
      "provenance": []
    },
    "kernelspec": {
      "display_name": "Python 3",
      "name": "python3"
    },
    "language_info": {
      "name": "python",
      "version": "3.11.7"
    }
  },
  "nbformat": 4,
  "nbformat_minor": 0
}
