{
  "nbformat": 4,
  "nbformat_minor": 0,
  "metadata": {
    "colab": {
      "provenance": []
    },
    "kernelspec": {
      "name": "python3",
      "display_name": "Python 3"
    },
    "language_info": {
      "name": "python"
    }
  },
  "cells": [
    {
      "cell_type": "code",
      "execution_count": 21,
      "metadata": {
        "id": "Q-EY-rZtpyZ7"
      },
      "outputs": [],
      "source": [
        "import numpy as np"
      ]
    },
    {
      "cell_type": "code",
      "source": [
        "inputs = [0.2,5,-10,2.4,-3.2]\n",
        "outputs = np.maximum(0,inputs)\n",
        "outputs"
      ],
      "metadata": {
        "colab": {
          "base_uri": "https://localhost:8080/"
        },
        "id": "rLLB2J-Mp0xo",
        "outputId": "c444baa0-f3f2-44b1-85b3-5db7e3af21ce"
      },
      "execution_count": 22,
      "outputs": [
        {
          "output_type": "execute_result",
          "data": {
            "text/plain": [
              "array([0.2, 5. , 0. , 2.4, 0. ])"
            ]
          },
          "metadata": {},
          "execution_count": 22
        }
      ]
    },
    {
      "cell_type": "code",
      "source": [
        "class DenseLayer:\n",
        "  def __init__(self,n_inputs,n_neurons):\n",
        "    self.weights = 0.01*np.random.randn(n_inputs,n_neurons)\n",
        "    self.biases = np.zeros((1,n_neurons))\n",
        "  def forward(self,inputs):\n",
        "    self.inputs = inputs\n",
        "    self.output = np.dot(self.inputs,self.weights)+self.biases\n",
        "class Relu:\n",
        "\n",
        "  def forward(self,inputs):\n",
        "    self.output = np.maximum(0,inputs)\n",
        "class softmax:\n",
        "  def forward(self,inputs):\n",
        "    exp_values = np.exp(inputs - np.max(inputs,axis=1,keepdims=True))\n",
        "    probabilities = exp_values/np.sum(exp_values,axis=1,keepdims = True)\n",
        "    self.output = probabilities"
      ],
      "metadata": {
        "id": "4ygU5oXqqKYQ"
      },
      "execution_count": 23,
      "outputs": []
    },
    {
      "cell_type": "code",
      "source": [
        "from nnfs.datasets import spiral_data\n",
        "import nnfs\n",
        "nnfs.init()"
      ],
      "metadata": {
        "id": "LJsLuq6kWgYM"
      },
      "execution_count": 24,
      "outputs": []
    },
    {
      "cell_type": "code",
      "source": [
        "X,y = spiral_data(samples=100,classes=3)\n",
        "\n",
        "#Create layers, and activation functions\n",
        "layer1 = DenseLayer(2,3)\n",
        "activation1 = Relu()\n",
        "layer2 = DenseLayer(3,3)\n",
        "activation2 = softmax()\n",
        "\n",
        "#forward passing through layers and functions now\n",
        "layer1.forward(X)\n",
        "activation1.forward(layer1.output)\n",
        "layer2.forward(activation1.output)\n",
        "activation2.forward(layer2.output)\n",
        "\n",
        "print(\"Probabilities of classes, columns=classes, rows=batch of data\")\n",
        "print(activation2.output[:5])\n",
        "print(\"Sum of probabilities of all 3 classes\")\n",
        "print(np.sum(activation2.output,axis =1,keepdims=True)[:5])"
      ],
      "metadata": {
        "colab": {
          "base_uri": "https://localhost:8080/"
        },
        "id": "yXqkHxzbX4BZ",
        "outputId": "9593e5bb-3feb-44f8-844c-89b9dcde8302"
      },
      "execution_count": 30,
      "outputs": [
        {
          "output_type": "stream",
          "name": "stdout",
          "text": [
            "Probabilities of classes, columns=classes, rows=batch of data\n",
            "[[0.33333334 0.33333334 0.33333334]\n",
            " [0.33333308 0.33333337 0.33333355]\n",
            " [0.33333322 0.33333355 0.33333322]\n",
            " [0.33333248 0.33333322 0.33333427]\n",
            " [0.33333248 0.33333355 0.33333403]]\n",
            "Sum of probabilities of all 3 classes\n",
            "[[1.        ]\n",
            " [1.        ]\n",
            " [1.        ]\n",
            " [0.99999994]\n",
            " [1.        ]]\n"
          ]
        }
      ]
    },
    {
      "cell_type": "code",
      "source": [],
      "metadata": {
        "id": "FHfpo_F8asWM"
      },
      "execution_count": 25,
      "outputs": []
    }
  ]
}