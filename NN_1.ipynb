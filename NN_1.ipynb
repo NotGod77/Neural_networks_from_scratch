{
  "nbformat": 4,
  "nbformat_minor": 0,
  "metadata": {
    "colab": {
      "provenance": []
    },
    "kernelspec": {
      "name": "python3",
      "display_name": "Python 3"
    },
    "language_info": {
      "name": "python"
    }
  },
  "cells": [
    {
      "cell_type": "markdown",
      "source": [
        "#Coding a Neuron from scratch\n"
      ],
      "metadata": {
        "id": "FVakXclVPNdf"
      }
    },
    {
      "cell_type": "markdown",
      "source": [
        "## manual implementation of neuron output calculation\n"
      ],
      "metadata": {
        "id": "mREAMUyPO4I8"
      }
    },
    {
      "cell_type": "code",
      "execution_count": null,
      "metadata": {
        "colab": {
          "base_uri": "https://localhost:8080/"
        },
        "id": "ZtFBxS1JCEDM",
        "outputId": "b6ff3176-61ba-45e4-904c-e1dcdf4e6314"
      },
      "outputs": [
        {
          "output_type": "execute_result",
          "data": {
            "text/plain": [
              "[29, 33, 42]"
            ]
          },
          "metadata": {},
          "execution_count": 1
        }
      ],
      "source": [
        "#Coding a 4 neuron layer, with 4 inputs associated with each neuron\n",
        "\n",
        "inputs = [3,4,5,6]\n",
        "\n",
        "weights = [[1,2,3,4],[2,2,3,4],[5,3,2,3]]\n",
        "b1=3\n",
        "b2=4\n",
        "b3=5\n",
        "\n",
        "#unpacking into individual weight lists\n",
        "weight1 = weights[0]\n",
        "weight2 = weights[1]\n",
        "weight3 = weights[2]\n",
        "\n",
        "output = [\n",
        "    weight1[0]*inputs[0]+\n",
        "    weight1[1]*inputs[1]+\n",
        "    weight1[2]*inputs[2]+\n",
        "    b1,\n",
        "\n",
        "    weight2[0]*inputs[0]+\n",
        "    weight2[1]*inputs[1]+\n",
        "    weight2[2]*inputs[2]+\n",
        "    b2,\n",
        "\n",
        "    weight3[0]*inputs[0]+\n",
        "    weight3[1]*inputs[1]+\n",
        "    weight3[2]*inputs[2]+\n",
        "    b3,\n",
        "]\n",
        "output\n",
        "\n"
      ]
    },
    {
      "cell_type": "markdown",
      "source": [
        "##using loops"
      ],
      "metadata": {
        "id": "puzARj4HO9A0"
      }
    },
    {
      "cell_type": "code",
      "source": [
        "#Now this is tedious to do by hand for more neurons or layers, so we'll loop it over\n",
        "\n",
        "inputs = [3,4,5,6]\n",
        "weights = [[1,2,3,4],[2,2,3,4],[5,3,2,3]]\n",
        "biases= [3,4,5]\n",
        "\n",
        "layer_outputs = []\n",
        "\n",
        "for neuron_weights, bias in zip(weights, biases):\n",
        "  neuron_output = 0\n",
        "  for weight, input in zip(neuron_weights, inputs):\n",
        "    neuron_output+=weight*input\n",
        "  neuron_output+=bias\n",
        "  layer_outputs.append(neuron_output)\n",
        "\n",
        "print(layer_outputs)"
      ],
      "metadata": {
        "colab": {
          "base_uri": "https://localhost:8080/"
        },
        "id": "qHM8cPCMKqks",
        "outputId": "4d0da659-e600-40d7-c2aa-57356d55473a"
      },
      "execution_count": null,
      "outputs": [
        {
          "output_type": "stream",
          "name": "stdout",
          "text": [
            "[53, 57, 60]\n"
          ]
        }
      ]
    },
    {
      "cell_type": "markdown",
      "source": [
        "##Using Numpy"
      ],
      "metadata": {
        "id": "UbRfs5Y9PQON"
      }
    },
    {
      "cell_type": "code",
      "source": [
        "import numpy as np\n",
        "# Single neuron\n",
        "wights = [1,2,3,4]\n",
        "inputs = [1,2,3,4]\n",
        "bias = 1\n",
        "output = np.dot(weights, inputs)+bias\n",
        "output"
      ],
      "metadata": {
        "colab": {
          "base_uri": "https://localhost:8080/"
        },
        "id": "hEI9cATGOxIw",
        "outputId": "9daf966b-c4ca-407a-c910-411e6e60fbcb"
      },
      "execution_count": null,
      "outputs": [
        {
          "output_type": "execute_result",
          "data": {
            "text/plain": [
              "array([31, 32, 30])"
            ]
          },
          "metadata": {},
          "execution_count": 4
        }
      ]
    },
    {
      "cell_type": "code",
      "source": [
        "# layer of 3 neurons lets say\n",
        "weights = [[1,2,3,2],[3,2,3,1],[5,4,3,2]]\n",
        "inputs = [1,2,3,4]\n",
        "biases = [1,2,3]\n",
        "\n",
        "output2 = np.dot(wights, inputs)+biases\n",
        "output2\n"
      ],
      "metadata": {
        "colab": {
          "base_uri": "https://localhost:8080/"
        },
        "id": "d9KbE7VxUmL2",
        "outputId": "e745e280-6d3b-405c-a45a-421c196250dc"
      },
      "execution_count": null,
      "outputs": [
        {
          "output_type": "execute_result",
          "data": {
            "text/plain": [
              "array([31, 32, 33])"
            ]
          },
          "metadata": {},
          "execution_count": 6
        }
      ]
    },
    {
      "cell_type": "code",
      "source": [
        "# batch of inputs\n",
        "ip = [[1,2,3],[1,2,3],[1,3,3]]\n",
        "wei = [[4,4,4],[1,1,1],[3,3,3]]\n",
        "bia = [1,2,3]\n",
        "\n",
        "#now for each batch of inputs, we have 3 outputs(as we have three neurons), so we will end up with a total of 9 outputs for 3 batches\n",
        "output3 = np.dot(ip,np.array(wei).T)+bia #can't transpose a python list, convert to a numpy array, then transposed\n",
        "output3\n"
      ],
      "metadata": {
        "colab": {
          "base_uri": "https://localhost:8080/"
        },
        "id": "PHx-5k9vVD9H",
        "outputId": "1835c70c-7577-4593-c10a-c3489f8a57a6"
      },
      "execution_count": null,
      "outputs": [
        {
          "output_type": "execute_result",
          "data": {
            "text/plain": [
              "array([[25,  8, 21],\n",
              "       [25,  8, 21],\n",
              "       [29,  9, 24]])"
            ]
          },
          "metadata": {},
          "execution_count": 7
        }
      ]
    },
    {
      "cell_type": "code",
      "source": [
        "#here, the rows are outputs of each neuron for 1 batch of data"
      ],
      "metadata": {
        "id": "ufLnqrcIXS8S"
      },
      "execution_count": null,
      "outputs": []
    }
  ]
}